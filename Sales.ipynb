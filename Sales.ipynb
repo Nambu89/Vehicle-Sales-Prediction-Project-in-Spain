{
 "cells": [
  {
   "cell_type": "code",
   "execution_count": 6,
   "metadata": {},
   "outputs": [
    {
     "name": "stdout",
     "output_type": "stream",
     "text": [
      "Collecting openpyxl\n",
      "  Downloading openpyxl-3.1.2-py2.py3-none-any.whl.metadata (2.5 kB)\n",
      "Collecting et-xmlfile (from openpyxl)\n",
      "  Downloading et_xmlfile-1.1.0-py3-none-any.whl.metadata (1.8 kB)\n",
      "Downloading openpyxl-3.1.2-py2.py3-none-any.whl (249 kB)\n",
      "\u001b[2K   \u001b[90m━━━━━━━━━━━━━━━━━━━━━━━━━━━━━━━━━━━━━━━━\u001b[0m \u001b[32m250.0/250.0 kB\u001b[0m \u001b[31m2.8 MB/s\u001b[0m eta \u001b[36m0:00:00\u001b[0ma \u001b[36m0:00:01\u001b[0m\n",
      "\u001b[?25hDownloading et_xmlfile-1.1.0-py3-none-any.whl (4.7 kB)\n",
      "Installing collected packages: et-xmlfile, openpyxl\n",
      "Successfully installed et-xmlfile-1.1.0 openpyxl-3.1.2\n",
      "Note: you may need to restart the kernel to use updated packages.\n"
     ]
    }
   ],
   "source": [
    "pip install openpyxl"
   ]
  },
  {
   "cell_type": "code",
   "execution_count": 50,
   "metadata": {},
   "outputs": [],
   "source": [
    "# Importamos las librerías\n",
    "\n",
    "import pandas as pd\n",
    "import numpy as np\n",
    "import matplotlib as plt\n",
    "import seaborn as sns\n",
    "import openpyxl"
   ]
  },
  {
   "cell_type": "code",
   "execution_count": 60,
   "metadata": {},
   "outputs": [],
   "source": [
    "# Ruta del PDF\n",
    "df1 = pd.read_excel('/Users/fernandopradagorge/Documents/Documentos - MacBook Pro de Fernando/Universidad/Master Data Science and AI/Nuclio Projects/Projects/Evolución ventas vehículos particulares/Lista detallada de ventas.xlsx')"
   ]
  },
  {
   "cell_type": "code",
   "execution_count": 61,
   "metadata": {},
   "outputs": [
    {
     "name": "stdout",
     "output_type": "stream",
     "text": [
      "<class 'pandas.core.frame.DataFrame'>\n",
      "RangeIndex: 7907 entries, 0 to 7906\n",
      "Data columns (total 36 columns):\n",
      " #   Column                 Non-Null Count  Dtype         \n",
      "---  ------                 --------------  -----         \n",
      " 0   V                      7906 non-null   object        \n",
      " 1   Fecha                  7904 non-null   datetime64[ns]\n",
      " 2   V/A                    7904 non-null   object        \n",
      " 3   IDV                    7904 non-null   float64       \n",
      " 4   Origen                 7904 non-null   object        \n",
      " 5   Referencia             7904 non-null   float64       \n",
      " 6   Tipo Vehículo          7686 non-null   object        \n",
      " 7   Matricula              7814 non-null   object        \n",
      " 8   Marca                  7904 non-null   object        \n",
      " 9   Modelo                 7904 non-null   object        \n",
      " 10  Canal                  7904 non-null   object        \n",
      " 11  Facturación            7905 non-null   float64       \n",
      " 12  Facturación (media)    7905 non-null   float64       \n",
      " 13  Importe Venta (media)  7905 non-null   float64       \n",
      " 14  Margen                 7905 non-null   float64       \n",
      " 15  Financiado             7904 non-null   object        \n",
      " 16  Imp. Financiado        7904 non-null   float64       \n",
      " 17  Interés                7904 non-null   float64       \n",
      " 18  Financiera             3324 non-null   object        \n",
      " 19  NumeroCuotas           3527 non-null   float64       \n",
      " 20  Concesionario          7904 non-null   object        \n",
      " 21  Vendedor               7873 non-null   object        \n",
      " 22  Comprador              7904 non-null   object        \n",
      " 23  Días en Stock          7644 non-null   float64       \n",
      " 24  Bastidor               7904 non-null   object        \n",
      " 25  Combustible            7224 non-null   object        \n",
      " 26  Cambio                 4352 non-null   object        \n",
      " 27  Kilómetros             7905 non-null   float64       \n",
      " 28  Fecha Matric.          7812 non-null   datetime64[ns]\n",
      " 29  Segmento               6722 non-null   object        \n",
      " 30  SubSegmento            6722 non-null   object        \n",
      " 31  Importe Remarketing    7644 non-null   float64       \n",
      " 32  Margen I               7905 non-null   float64       \n",
      " 33  Margen II              7905 non-null   float64       \n",
      " 34  Margen III             7905 non-null   float64       \n",
      " 35  Margen IV              7905 non-null   float64       \n",
      "dtypes: datetime64[ns](2), float64(16), object(18)\n",
      "memory usage: 2.2+ MB\n"
     ]
    }
   ],
   "source": [
    "df1.info()"
   ]
  },
  {
   "cell_type": "code",
   "execution_count": 62,
   "metadata": {},
   "outputs": [
    {
     "data": {
      "text/html": [
       "<div>\n",
       "<style scoped>\n",
       "    .dataframe tbody tr th:only-of-type {\n",
       "        vertical-align: middle;\n",
       "    }\n",
       "\n",
       "    .dataframe tbody tr th {\n",
       "        vertical-align: top;\n",
       "    }\n",
       "\n",
       "    .dataframe thead th {\n",
       "        text-align: right;\n",
       "    }\n",
       "</style>\n",
       "<table border=\"1\" class=\"dataframe\">\n",
       "  <thead>\n",
       "    <tr style=\"text-align: right;\">\n",
       "      <th></th>\n",
       "      <th>V</th>\n",
       "      <th>Fecha</th>\n",
       "      <th>V/A</th>\n",
       "      <th>IDV</th>\n",
       "      <th>Origen</th>\n",
       "      <th>Referencia</th>\n",
       "      <th>Tipo Vehículo</th>\n",
       "      <th>Matricula</th>\n",
       "      <th>Marca</th>\n",
       "      <th>Modelo</th>\n",
       "      <th>...</th>\n",
       "      <th>Cambio</th>\n",
       "      <th>Kilómetros</th>\n",
       "      <th>Fecha Matric.</th>\n",
       "      <th>Segmento</th>\n",
       "      <th>SubSegmento</th>\n",
       "      <th>Importe Remarketing</th>\n",
       "      <th>Margen I</th>\n",
       "      <th>Margen II</th>\n",
       "      <th>Margen III</th>\n",
       "      <th>Margen IV</th>\n",
       "    </tr>\n",
       "  </thead>\n",
       "  <tbody>\n",
       "    <tr>\n",
       "      <th>0</th>\n",
       "      <td>1</td>\n",
       "      <td>2024-01-18</td>\n",
       "      <td>V</td>\n",
       "      <td>156385.0</td>\n",
       "      <td>VO</td>\n",
       "      <td>31114932.0</td>\n",
       "      <td>MOTOS</td>\n",
       "      <td>6457GSW</td>\n",
       "      <td>PIAGGIO</td>\n",
       "      <td>PIAGGIO VESPA 50CC</td>\n",
       "      <td>...</td>\n",
       "      <td>AUTOMATICO</td>\n",
       "      <td>72940.0</td>\n",
       "      <td>2010-01-18</td>\n",
       "      <td>NaN</td>\n",
       "      <td>NaN</td>\n",
       "      <td>0.00</td>\n",
       "      <td>82.65</td>\n",
       "      <td>82.65</td>\n",
       "      <td>-48.56</td>\n",
       "      <td>-48.56</td>\n",
       "    </tr>\n",
       "    <tr>\n",
       "      <th>1</th>\n",
       "      <td>1</td>\n",
       "      <td>2023-03-21</td>\n",
       "      <td>V</td>\n",
       "      <td>156385.0</td>\n",
       "      <td>VO</td>\n",
       "      <td>28637837.0</td>\n",
       "      <td>MOTOS</td>\n",
       "      <td>6457GSW</td>\n",
       "      <td>PIAGGIO</td>\n",
       "      <td>PIAGGIO VESPA 50CC</td>\n",
       "      <td>...</td>\n",
       "      <td>AUTOMATICO</td>\n",
       "      <td>72940.0</td>\n",
       "      <td>2010-01-18</td>\n",
       "      <td>NaN</td>\n",
       "      <td>NaN</td>\n",
       "      <td>0.00</td>\n",
       "      <td>413.22</td>\n",
       "      <td>413.22</td>\n",
       "      <td>476.84</td>\n",
       "      <td>476.84</td>\n",
       "    </tr>\n",
       "    <tr>\n",
       "      <th>2</th>\n",
       "      <td>1</td>\n",
       "      <td>2023-06-29</td>\n",
       "      <td>V</td>\n",
       "      <td>159474.0</td>\n",
       "      <td>VO</td>\n",
       "      <td>29507497.0</td>\n",
       "      <td>TURISMOS</td>\n",
       "      <td>5383GTM</td>\n",
       "      <td>FORD</td>\n",
       "      <td>FOCUS</td>\n",
       "      <td>...</td>\n",
       "      <td>MANUAL</td>\n",
       "      <td>124380.0</td>\n",
       "      <td>2010-02-22</td>\n",
       "      <td>Turismos</td>\n",
       "      <td>Segmento C</td>\n",
       "      <td>0.00</td>\n",
       "      <td>991.73</td>\n",
       "      <td>991.73</td>\n",
       "      <td>855.35</td>\n",
       "      <td>855.35</td>\n",
       "    </tr>\n",
       "    <tr>\n",
       "      <th>3</th>\n",
       "      <td>1</td>\n",
       "      <td>2024-03-18</td>\n",
       "      <td>V</td>\n",
       "      <td>200955.0</td>\n",
       "      <td>VO</td>\n",
       "      <td>31567110.0</td>\n",
       "      <td>TURISMOS</td>\n",
       "      <td>4134HSR</td>\n",
       "      <td>OPEL</td>\n",
       "      <td>OPEL CORSA</td>\n",
       "      <td>...</td>\n",
       "      <td>MANUAL</td>\n",
       "      <td>106772.0</td>\n",
       "      <td>2013-08-29</td>\n",
       "      <td>Turismos</td>\n",
       "      <td>Segmento B</td>\n",
       "      <td>1347.61</td>\n",
       "      <td>4123.97</td>\n",
       "      <td>4123.97</td>\n",
       "      <td>2861.92</td>\n",
       "      <td>2861.92</td>\n",
       "    </tr>\n",
       "    <tr>\n",
       "      <th>4</th>\n",
       "      <td>1</td>\n",
       "      <td>2023-01-16</td>\n",
       "      <td>V</td>\n",
       "      <td>205707.0</td>\n",
       "      <td>VO</td>\n",
       "      <td>28058110.0</td>\n",
       "      <td>TURISMOS</td>\n",
       "      <td>1962HTZ</td>\n",
       "      <td>ALFA</td>\n",
       "      <td>GIULIETTA</td>\n",
       "      <td>...</td>\n",
       "      <td>MANUAL</td>\n",
       "      <td>66511.0</td>\n",
       "      <td>2013-12-18</td>\n",
       "      <td>Turismos</td>\n",
       "      <td>Segmento C</td>\n",
       "      <td>0.00</td>\n",
       "      <td>2300.51</td>\n",
       "      <td>2300.51</td>\n",
       "      <td>1618.87</td>\n",
       "      <td>1618.87</td>\n",
       "    </tr>\n",
       "  </tbody>\n",
       "</table>\n",
       "<p>5 rows × 36 columns</p>\n",
       "</div>"
      ],
      "text/plain": [
       "   V      Fecha V/A       IDV Origen  Referencia Tipo Vehículo Matricula  \\\n",
       "0  1 2024-01-18   V  156385.0     VO  31114932.0         MOTOS   6457GSW   \n",
       "1  1 2023-03-21   V  156385.0     VO  28637837.0         MOTOS   6457GSW   \n",
       "2  1 2023-06-29   V  159474.0     VO  29507497.0      TURISMOS   5383GTM   \n",
       "3  1 2024-03-18   V  200955.0     VO  31567110.0      TURISMOS   4134HSR   \n",
       "4  1 2023-01-16   V  205707.0     VO  28058110.0      TURISMOS   1962HTZ   \n",
       "\n",
       "     Marca              Modelo  ...      Cambio  Kilómetros  Fecha Matric.  \\\n",
       "0  PIAGGIO  PIAGGIO VESPA 50CC  ...  AUTOMATICO     72940.0     2010-01-18   \n",
       "1  PIAGGIO  PIAGGIO VESPA 50CC  ...  AUTOMATICO     72940.0     2010-01-18   \n",
       "2     FORD               FOCUS  ...      MANUAL    124380.0     2010-02-22   \n",
       "3     OPEL          OPEL CORSA  ...      MANUAL    106772.0     2013-08-29   \n",
       "4     ALFA           GIULIETTA  ...      MANUAL     66511.0     2013-12-18   \n",
       "\n",
       "   Segmento  SubSegmento Importe Remarketing  Margen I  Margen II Margen III  \\\n",
       "0       NaN          NaN                0.00     82.65      82.65     -48.56   \n",
       "1       NaN          NaN                0.00    413.22     413.22     476.84   \n",
       "2  Turismos   Segmento C                0.00    991.73     991.73     855.35   \n",
       "3  Turismos   Segmento B             1347.61   4123.97    4123.97    2861.92   \n",
       "4  Turismos   Segmento C                0.00   2300.51    2300.51    1618.87   \n",
       "\n",
       "   Margen IV  \n",
       "0     -48.56  \n",
       "1     476.84  \n",
       "2     855.35  \n",
       "3    2861.92  \n",
       "4    1618.87  \n",
       "\n",
       "[5 rows x 36 columns]"
      ]
     },
     "execution_count": 62,
     "metadata": {},
     "output_type": "execute_result"
    }
   ],
   "source": [
    "df1.head()"
   ]
  },
  {
   "cell_type": "code",
   "execution_count": 63,
   "metadata": {},
   "outputs": [
    {
     "data": {
      "text/plain": [
       "Index(['V', 'Fecha', 'V/A', 'IDV', 'Origen', 'Referencia', 'Tipo Vehículo',\n",
       "       'Matricula', 'Marca', 'Modelo', 'Canal', 'Facturación',\n",
       "       'Facturación (media)', 'Importe Venta (media)', 'Margen', 'Financiado',\n",
       "       'Imp. Financiado', 'Interés', 'Financiera', 'NumeroCuotas',\n",
       "       'Concesionario', 'Vendedor', 'Comprador', 'Días en Stock', 'Bastidor',\n",
       "       'Combustible', 'Cambio', 'Kilómetros', 'Fecha Matric.', 'Segmento',\n",
       "       'SubSegmento', 'Importe Remarketing', 'Margen I', 'Margen II',\n",
       "       'Margen III', 'Margen IV'],\n",
       "      dtype='object')"
      ]
     },
     "execution_count": 63,
     "metadata": {},
     "output_type": "execute_result"
    }
   ],
   "source": [
    "df1.columns"
   ]
  },
  {
   "cell_type": "code",
   "execution_count": 64,
   "metadata": {},
   "outputs": [],
   "source": [
    "df1 = df1.drop(['Referencia', 'Canal', 'Matricula', 'Financiado', 'Imp. Financiado', 'Interés', 'Financiera', 'NumeroCuotas', 'Vendedor', 'Comprador', 'Bastidor', 'Kilómetros', 'V', 'V/A', 'IDV', 'Margen I', 'Margen II', 'Margen III', 'Margen IV', 'Segmento', 'SubSegmento', 'Fecha Matric.', 'Cambio', 'Días en Stock', 'Importe Remarketing', 'Margen'], axis = 1)"
   ]
  },
  {
   "cell_type": "code",
   "execution_count": 65,
   "metadata": {},
   "outputs": [
    {
     "data": {
      "text/plain": [
       "Index(['Fecha', 'Origen', 'Tipo Vehículo', 'Marca', 'Modelo', 'Facturación',\n",
       "       'Facturación (media)', 'Importe Venta (media)', 'Concesionario',\n",
       "       'Combustible'],\n",
       "      dtype='object')"
      ]
     },
     "execution_count": 65,
     "metadata": {},
     "output_type": "execute_result"
    }
   ],
   "source": [
    "df1.columns"
   ]
  },
  {
   "cell_type": "code",
   "execution_count": 66,
   "metadata": {},
   "outputs": [],
   "source": [
    "df2 = df1.copy()"
   ]
  },
  {
   "cell_type": "code",
   "execution_count": 67,
   "metadata": {},
   "outputs": [
    {
     "data": {
      "text/plain": [
       "Index(['Fecha', 'Origen', 'Tipo Vehículo', 'Marca', 'Modelo', 'Facturación',\n",
       "       'Facturación (media)', 'Importe Venta (media)', 'Concesionario',\n",
       "       'Combustible'],\n",
       "      dtype='object')"
      ]
     },
     "execution_count": 67,
     "metadata": {},
     "output_type": "execute_result"
    }
   ],
   "source": [
    "df2.columns"
   ]
  },
  {
   "cell_type": "code",
   "execution_count": 68,
   "metadata": {},
   "outputs": [
    {
     "name": "stdout",
     "output_type": "stream",
     "text": [
      "<class 'pandas.core.frame.DataFrame'>\n",
      "RangeIndex: 7907 entries, 0 to 7906\n",
      "Data columns (total 10 columns):\n",
      " #   Column                 Non-Null Count  Dtype         \n",
      "---  ------                 --------------  -----         \n",
      " 0   Fecha                  7904 non-null   datetime64[ns]\n",
      " 1   Origen                 7904 non-null   object        \n",
      " 2   Tipo Vehículo          7686 non-null   object        \n",
      " 3   Marca                  7904 non-null   object        \n",
      " 4   Modelo                 7904 non-null   object        \n",
      " 5   Facturación            7905 non-null   float64       \n",
      " 6   Facturación (media)    7905 non-null   float64       \n",
      " 7   Importe Venta (media)  7905 non-null   float64       \n",
      " 8   Concesionario          7904 non-null   object        \n",
      " 9   Combustible            7224 non-null   object        \n",
      "dtypes: datetime64[ns](1), float64(3), object(6)\n",
      "memory usage: 617.9+ KB\n"
     ]
    }
   ],
   "source": [
    "df2.info()"
   ]
  },
  {
   "cell_type": "code",
   "execution_count": 70,
   "metadata": {},
   "outputs": [
    {
     "data": {
      "text/plain": [
       "Fecha                      3\n",
       "Origen                     3\n",
       "Tipo Vehículo            221\n",
       "Marca                      3\n",
       "Modelo                     3\n",
       "Facturación                2\n",
       "Facturación (media)        2\n",
       "Importe Venta (media)      2\n",
       "Concesionario              3\n",
       "Combustible              683\n",
       "dtype: int64"
      ]
     },
     "execution_count": 70,
     "metadata": {},
     "output_type": "execute_result"
    }
   ],
   "source": [
    "df2.isnull().sum()"
   ]
  },
  {
   "cell_type": "code",
   "execution_count": null,
   "metadata": {},
   "outputs": [],
   "source": []
  }
 ],
 "metadata": {
  "kernelspec": {
   "display_name": "Python 3",
   "language": "python",
   "name": "python3"
  },
  "language_info": {
   "codemirror_mode": {
    "name": "ipython",
    "version": 3
   },
   "file_extension": ".py",
   "mimetype": "text/x-python",
   "name": "python",
   "nbconvert_exporter": "python",
   "pygments_lexer": "ipython3",
   "version": "3.12.2"
  }
 },
 "nbformat": 4,
 "nbformat_minor": 2
}

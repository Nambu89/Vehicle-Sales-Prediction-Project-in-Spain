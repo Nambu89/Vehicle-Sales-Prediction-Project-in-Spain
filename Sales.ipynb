{
 "cells": [
  {
   "cell_type": "code",
   "execution_count": 36,
   "metadata": {},
   "outputs": [],
   "source": [
    "# Importamos las librerías\n",
    "import pandas as pd\n",
    "import numpy as np\n",
    "import matplotlib as plt\n",
    "import seaborn as sns\n",
    "import openpyxl\n",
    "from sklearn.compose import ColumnTransformer\n",
    "from sklearn.pipeline import Pipeline\n",
    "from sklearn.impute import SimpleImputer\n",
    "from sklearn.preprocessing import OneHotEncoder, MinMaxScaler\n",
    "from scipy import sparse"
   ]
  },
  {
   "cell_type": "code",
   "execution_count": 3,
   "metadata": {},
   "outputs": [],
   "source": [
    "# Ruta del PDF\n",
    "df1 = pd.read_excel('/Users/fernandopradagorge/Documents/Documentos - MacBook Pro de Fernando/Universidad/Master Data Science and AI/Nuclio Projects/Projects/Evolución ventas vehículos particulares/Lista detallada de ventas.xlsx')"
   ]
  },
  {
   "cell_type": "code",
   "execution_count": 4,
   "metadata": {},
   "outputs": [
    {
     "name": "stdout",
     "output_type": "stream",
     "text": [
      "<class 'pandas.core.frame.DataFrame'>\n",
      "RangeIndex: 7907 entries, 0 to 7906\n",
      "Data columns (total 36 columns):\n",
      " #   Column                 Non-Null Count  Dtype         \n",
      "---  ------                 --------------  -----         \n",
      " 0   V                      7906 non-null   object        \n",
      " 1   Fecha                  7904 non-null   datetime64[ns]\n",
      " 2   V/A                    7904 non-null   object        \n",
      " 3   IDV                    7904 non-null   float64       \n",
      " 4   Origen                 7904 non-null   object        \n",
      " 5   Referencia             7904 non-null   float64       \n",
      " 6   Tipo Vehículo          7686 non-null   object        \n",
      " 7   Matricula              7814 non-null   object        \n",
      " 8   Marca                  7904 non-null   object        \n",
      " 9   Modelo                 7904 non-null   object        \n",
      " 10  Canal                  7904 non-null   object        \n",
      " 11  Facturación            7905 non-null   float64       \n",
      " 12  Facturación (media)    7905 non-null   float64       \n",
      " 13  Importe Venta (media)  7905 non-null   float64       \n",
      " 14  Margen                 7905 non-null   float64       \n",
      " 15  Financiado             7904 non-null   object        \n",
      " 16  Imp. Financiado        7904 non-null   float64       \n",
      " 17  Interés                7904 non-null   float64       \n",
      " 18  Financiera             3324 non-null   object        \n",
      " 19  NumeroCuotas           3527 non-null   float64       \n",
      " 20  Concesionario          7904 non-null   object        \n",
      " 21  Vendedor               7873 non-null   object        \n",
      " 22  Comprador              7904 non-null   object        \n",
      " 23  Días en Stock          7644 non-null   float64       \n",
      " 24  Bastidor               7904 non-null   object        \n",
      " 25  Combustible            7224 non-null   object        \n",
      " 26  Cambio                 4352 non-null   object        \n",
      " 27  Kilómetros             7905 non-null   float64       \n",
      " 28  Fecha Matric.          7812 non-null   datetime64[ns]\n",
      " 29  Segmento               6722 non-null   object        \n",
      " 30  SubSegmento            6722 non-null   object        \n",
      " 31  Importe Remarketing    7644 non-null   float64       \n",
      " 32  Margen I               7905 non-null   float64       \n",
      " 33  Margen II              7905 non-null   float64       \n",
      " 34  Margen III             7905 non-null   float64       \n",
      " 35  Margen IV              7905 non-null   float64       \n",
      "dtypes: datetime64[ns](2), float64(16), object(18)\n",
      "memory usage: 2.2+ MB\n"
     ]
    }
   ],
   "source": [
    "df1.info()"
   ]
  },
  {
   "cell_type": "code",
   "execution_count": 5,
   "metadata": {},
   "outputs": [
    {
     "data": {
      "text/html": [
       "<div>\n",
       "<style scoped>\n",
       "    .dataframe tbody tr th:only-of-type {\n",
       "        vertical-align: middle;\n",
       "    }\n",
       "\n",
       "    .dataframe tbody tr th {\n",
       "        vertical-align: top;\n",
       "    }\n",
       "\n",
       "    .dataframe thead th {\n",
       "        text-align: right;\n",
       "    }\n",
       "</style>\n",
       "<table border=\"1\" class=\"dataframe\">\n",
       "  <thead>\n",
       "    <tr style=\"text-align: right;\">\n",
       "      <th></th>\n",
       "      <th>V</th>\n",
       "      <th>Fecha</th>\n",
       "      <th>V/A</th>\n",
       "      <th>IDV</th>\n",
       "      <th>Origen</th>\n",
       "      <th>Referencia</th>\n",
       "      <th>Tipo Vehículo</th>\n",
       "      <th>Matricula</th>\n",
       "      <th>Marca</th>\n",
       "      <th>Modelo</th>\n",
       "      <th>...</th>\n",
       "      <th>Cambio</th>\n",
       "      <th>Kilómetros</th>\n",
       "      <th>Fecha Matric.</th>\n",
       "      <th>Segmento</th>\n",
       "      <th>SubSegmento</th>\n",
       "      <th>Importe Remarketing</th>\n",
       "      <th>Margen I</th>\n",
       "      <th>Margen II</th>\n",
       "      <th>Margen III</th>\n",
       "      <th>Margen IV</th>\n",
       "    </tr>\n",
       "  </thead>\n",
       "  <tbody>\n",
       "    <tr>\n",
       "      <th>0</th>\n",
       "      <td>1</td>\n",
       "      <td>2024-01-18</td>\n",
       "      <td>V</td>\n",
       "      <td>156385.0</td>\n",
       "      <td>VO</td>\n",
       "      <td>31114932.0</td>\n",
       "      <td>MOTOS</td>\n",
       "      <td>6457GSW</td>\n",
       "      <td>PIAGGIO</td>\n",
       "      <td>PIAGGIO VESPA 50CC</td>\n",
       "      <td>...</td>\n",
       "      <td>AUTOMATICO</td>\n",
       "      <td>72940.0</td>\n",
       "      <td>2010-01-18</td>\n",
       "      <td>NaN</td>\n",
       "      <td>NaN</td>\n",
       "      <td>0.00</td>\n",
       "      <td>82.65</td>\n",
       "      <td>82.65</td>\n",
       "      <td>-48.56</td>\n",
       "      <td>-48.56</td>\n",
       "    </tr>\n",
       "    <tr>\n",
       "      <th>1</th>\n",
       "      <td>1</td>\n",
       "      <td>2023-03-21</td>\n",
       "      <td>V</td>\n",
       "      <td>156385.0</td>\n",
       "      <td>VO</td>\n",
       "      <td>28637837.0</td>\n",
       "      <td>MOTOS</td>\n",
       "      <td>6457GSW</td>\n",
       "      <td>PIAGGIO</td>\n",
       "      <td>PIAGGIO VESPA 50CC</td>\n",
       "      <td>...</td>\n",
       "      <td>AUTOMATICO</td>\n",
       "      <td>72940.0</td>\n",
       "      <td>2010-01-18</td>\n",
       "      <td>NaN</td>\n",
       "      <td>NaN</td>\n",
       "      <td>0.00</td>\n",
       "      <td>413.22</td>\n",
       "      <td>413.22</td>\n",
       "      <td>476.84</td>\n",
       "      <td>476.84</td>\n",
       "    </tr>\n",
       "    <tr>\n",
       "      <th>2</th>\n",
       "      <td>1</td>\n",
       "      <td>2023-06-29</td>\n",
       "      <td>V</td>\n",
       "      <td>159474.0</td>\n",
       "      <td>VO</td>\n",
       "      <td>29507497.0</td>\n",
       "      <td>TURISMOS</td>\n",
       "      <td>5383GTM</td>\n",
       "      <td>FORD</td>\n",
       "      <td>FOCUS</td>\n",
       "      <td>...</td>\n",
       "      <td>MANUAL</td>\n",
       "      <td>124380.0</td>\n",
       "      <td>2010-02-22</td>\n",
       "      <td>Turismos</td>\n",
       "      <td>Segmento C</td>\n",
       "      <td>0.00</td>\n",
       "      <td>991.73</td>\n",
       "      <td>991.73</td>\n",
       "      <td>855.35</td>\n",
       "      <td>855.35</td>\n",
       "    </tr>\n",
       "    <tr>\n",
       "      <th>3</th>\n",
       "      <td>1</td>\n",
       "      <td>2024-03-18</td>\n",
       "      <td>V</td>\n",
       "      <td>200955.0</td>\n",
       "      <td>VO</td>\n",
       "      <td>31567110.0</td>\n",
       "      <td>TURISMOS</td>\n",
       "      <td>4134HSR</td>\n",
       "      <td>OPEL</td>\n",
       "      <td>OPEL CORSA</td>\n",
       "      <td>...</td>\n",
       "      <td>MANUAL</td>\n",
       "      <td>106772.0</td>\n",
       "      <td>2013-08-29</td>\n",
       "      <td>Turismos</td>\n",
       "      <td>Segmento B</td>\n",
       "      <td>1347.61</td>\n",
       "      <td>4123.97</td>\n",
       "      <td>4123.97</td>\n",
       "      <td>2861.92</td>\n",
       "      <td>2861.92</td>\n",
       "    </tr>\n",
       "    <tr>\n",
       "      <th>4</th>\n",
       "      <td>1</td>\n",
       "      <td>2023-01-16</td>\n",
       "      <td>V</td>\n",
       "      <td>205707.0</td>\n",
       "      <td>VO</td>\n",
       "      <td>28058110.0</td>\n",
       "      <td>TURISMOS</td>\n",
       "      <td>1962HTZ</td>\n",
       "      <td>ALFA</td>\n",
       "      <td>GIULIETTA</td>\n",
       "      <td>...</td>\n",
       "      <td>MANUAL</td>\n",
       "      <td>66511.0</td>\n",
       "      <td>2013-12-18</td>\n",
       "      <td>Turismos</td>\n",
       "      <td>Segmento C</td>\n",
       "      <td>0.00</td>\n",
       "      <td>2300.51</td>\n",
       "      <td>2300.51</td>\n",
       "      <td>1618.87</td>\n",
       "      <td>1618.87</td>\n",
       "    </tr>\n",
       "  </tbody>\n",
       "</table>\n",
       "<p>5 rows × 36 columns</p>\n",
       "</div>"
      ],
      "text/plain": [
       "   V      Fecha V/A       IDV Origen  Referencia Tipo Vehículo Matricula  \\\n",
       "0  1 2024-01-18   V  156385.0     VO  31114932.0         MOTOS   6457GSW   \n",
       "1  1 2023-03-21   V  156385.0     VO  28637837.0         MOTOS   6457GSW   \n",
       "2  1 2023-06-29   V  159474.0     VO  29507497.0      TURISMOS   5383GTM   \n",
       "3  1 2024-03-18   V  200955.0     VO  31567110.0      TURISMOS   4134HSR   \n",
       "4  1 2023-01-16   V  205707.0     VO  28058110.0      TURISMOS   1962HTZ   \n",
       "\n",
       "     Marca              Modelo  ...      Cambio  Kilómetros  Fecha Matric.  \\\n",
       "0  PIAGGIO  PIAGGIO VESPA 50CC  ...  AUTOMATICO     72940.0     2010-01-18   \n",
       "1  PIAGGIO  PIAGGIO VESPA 50CC  ...  AUTOMATICO     72940.0     2010-01-18   \n",
       "2     FORD               FOCUS  ...      MANUAL    124380.0     2010-02-22   \n",
       "3     OPEL          OPEL CORSA  ...      MANUAL    106772.0     2013-08-29   \n",
       "4     ALFA           GIULIETTA  ...      MANUAL     66511.0     2013-12-18   \n",
       "\n",
       "   Segmento  SubSegmento Importe Remarketing  Margen I  Margen II Margen III  \\\n",
       "0       NaN          NaN                0.00     82.65      82.65     -48.56   \n",
       "1       NaN          NaN                0.00    413.22     413.22     476.84   \n",
       "2  Turismos   Segmento C                0.00    991.73     991.73     855.35   \n",
       "3  Turismos   Segmento B             1347.61   4123.97    4123.97    2861.92   \n",
       "4  Turismos   Segmento C                0.00   2300.51    2300.51    1618.87   \n",
       "\n",
       "   Margen IV  \n",
       "0     -48.56  \n",
       "1     476.84  \n",
       "2     855.35  \n",
       "3    2861.92  \n",
       "4    1618.87  \n",
       "\n",
       "[5 rows x 36 columns]"
      ]
     },
     "execution_count": 5,
     "metadata": {},
     "output_type": "execute_result"
    }
   ],
   "source": [
    "df1.head()"
   ]
  },
  {
   "cell_type": "markdown",
   "metadata": {},
   "source": [
    "### EDA"
   ]
  },
  {
   "cell_type": "code",
   "execution_count": 6,
   "metadata": {},
   "outputs": [
    {
     "data": {
      "text/plain": [
       "Index(['V', 'Fecha', 'V/A', 'IDV', 'Origen', 'Referencia', 'Tipo Vehículo',\n",
       "       'Matricula', 'Marca', 'Modelo', 'Canal', 'Facturación',\n",
       "       'Facturación (media)', 'Importe Venta (media)', 'Margen', 'Financiado',\n",
       "       'Imp. Financiado', 'Interés', 'Financiera', 'NumeroCuotas',\n",
       "       'Concesionario', 'Vendedor', 'Comprador', 'Días en Stock', 'Bastidor',\n",
       "       'Combustible', 'Cambio', 'Kilómetros', 'Fecha Matric.', 'Segmento',\n",
       "       'SubSegmento', 'Importe Remarketing', 'Margen I', 'Margen II',\n",
       "       'Margen III', 'Margen IV'],\n",
       "      dtype='object')"
      ]
     },
     "execution_count": 6,
     "metadata": {},
     "output_type": "execute_result"
    }
   ],
   "source": [
    "df1.columns"
   ]
  },
  {
   "cell_type": "code",
   "execution_count": 7,
   "metadata": {},
   "outputs": [],
   "source": [
    "df1 = df1.drop(['Referencia', 'Canal', 'Matricula', 'Financiado', 'Imp. Financiado', 'Interés', 'Financiera', 'NumeroCuotas', 'Vendedor', 'Comprador', 'Bastidor', 'Kilómetros', 'V', 'V/A', 'IDV', 'Margen I', 'Margen II', 'Margen III', 'Margen IV', 'Segmento', 'SubSegmento', 'Fecha Matric.', 'Cambio', 'Días en Stock', 'Importe Remarketing', 'Margen'], axis = 1)"
   ]
  },
  {
   "cell_type": "code",
   "execution_count": 8,
   "metadata": {},
   "outputs": [
    {
     "data": {
      "text/plain": [
       "Index(['Fecha', 'Origen', 'Tipo Vehículo', 'Marca', 'Modelo', 'Facturación',\n",
       "       'Facturación (media)', 'Importe Venta (media)', 'Concesionario',\n",
       "       'Combustible'],\n",
       "      dtype='object')"
      ]
     },
     "execution_count": 8,
     "metadata": {},
     "output_type": "execute_result"
    }
   ],
   "source": [
    "df1.columns"
   ]
  },
  {
   "cell_type": "code",
   "execution_count": 9,
   "metadata": {},
   "outputs": [],
   "source": [
    "df2 = df1.copy()"
   ]
  },
  {
   "cell_type": "code",
   "execution_count": 10,
   "metadata": {},
   "outputs": [
    {
     "data": {
      "text/plain": [
       "Index(['Fecha', 'Origen', 'Tipo Vehículo', 'Marca', 'Modelo', 'Facturación',\n",
       "       'Facturación (media)', 'Importe Venta (media)', 'Concesionario',\n",
       "       'Combustible'],\n",
       "      dtype='object')"
      ]
     },
     "execution_count": 10,
     "metadata": {},
     "output_type": "execute_result"
    }
   ],
   "source": [
    "df2.columns"
   ]
  },
  {
   "cell_type": "code",
   "execution_count": 11,
   "metadata": {},
   "outputs": [
    {
     "name": "stdout",
     "output_type": "stream",
     "text": [
      "<class 'pandas.core.frame.DataFrame'>\n",
      "RangeIndex: 7907 entries, 0 to 7906\n",
      "Data columns (total 10 columns):\n",
      " #   Column                 Non-Null Count  Dtype         \n",
      "---  ------                 --------------  -----         \n",
      " 0   Fecha                  7904 non-null   datetime64[ns]\n",
      " 1   Origen                 7904 non-null   object        \n",
      " 2   Tipo Vehículo          7686 non-null   object        \n",
      " 3   Marca                  7904 non-null   object        \n",
      " 4   Modelo                 7904 non-null   object        \n",
      " 5   Facturación            7905 non-null   float64       \n",
      " 6   Facturación (media)    7905 non-null   float64       \n",
      " 7   Importe Venta (media)  7905 non-null   float64       \n",
      " 8   Concesionario          7904 non-null   object        \n",
      " 9   Combustible            7224 non-null   object        \n",
      "dtypes: datetime64[ns](1), float64(3), object(6)\n",
      "memory usage: 617.9+ KB\n"
     ]
    }
   ],
   "source": [
    "df2.info()"
   ]
  },
  {
   "cell_type": "code",
   "execution_count": 12,
   "metadata": {},
   "outputs": [],
   "source": [
    "df2 = df2.drop(['Concesionario', 'Tipo Vehículo'], axis = 1)"
   ]
  },
  {
   "cell_type": "code",
   "execution_count": 13,
   "metadata": {},
   "outputs": [
    {
     "data": {
      "text/plain": [
       "Fecha                      3\n",
       "Origen                     3\n",
       "Marca                      3\n",
       "Modelo                     3\n",
       "Facturación                2\n",
       "Facturación (media)        2\n",
       "Importe Venta (media)      2\n",
       "Combustible              683\n",
       "dtype: int64"
      ]
     },
     "execution_count": 13,
     "metadata": {},
     "output_type": "execute_result"
    }
   ],
   "source": [
    "df2.isnull().sum()"
   ]
  },
  {
   "cell_type": "code",
   "execution_count": 14,
   "metadata": {},
   "outputs": [],
   "source": [
    "# Eliminar los 3 nulos de la columna 'Fecha' ya que no son significativos para el modelo\n",
    "df2.dropna(subset = ['Fecha'], inplace = True)"
   ]
  },
  {
   "cell_type": "code",
   "execution_count": 15,
   "metadata": {},
   "outputs": [],
   "source": [
    "# Establecer la columan 'Fecha' como índice \n",
    "df2.set_index('Fecha', inplace = True)"
   ]
  },
  {
   "cell_type": "markdown",
   "metadata": {},
   "source": [
    "### Imputación de valores nulos"
   ]
  },
  {
   "cell_type": "code",
   "execution_count": 17,
   "metadata": {},
   "outputs": [],
   "source": [
    "# Definir las transformaciones para las columnas numéricas\n",
    "numeric_transformer = Pipeline(steps=[\n",
    "    ('imputer', SimpleImputer(strategy = 'median')),\n",
    "    ('scaler', MinMaxScaler())\n",
    "])"
   ]
  },
  {
   "cell_type": "code",
   "execution_count": 18,
   "metadata": {},
   "outputs": [],
   "source": [
    "# Definir las transfformaciones para las columnas categórica\n",
    "categorical_transformer = Pipeline(steps = [\n",
    "    ('imputer', SimpleImputer(strategy = 'most_frequent')),\n",
    "    ('encoder', OneHotEncoder(handle_unknown ='ignore'))\n",
    "])"
   ]
  },
  {
   "cell_type": "code",
   "execution_count": 20,
   "metadata": {},
   "outputs": [],
   "source": [
    "# Crear el transformador de columnas usando el ColumnTransform\n",
    "preprocessor = ColumnTransformer([\n",
    "    ('num', numeric_transformer, df2.select_dtypes(include=['float64', 'int64']).columns),\n",
    "    ('cat', categorical_transformer, df2.select_dtypes(include=['object']).columns)\n",
    "])"
   ]
  },
  {
   "cell_type": "code",
   "execution_count": 21,
   "metadata": {},
   "outputs": [],
   "source": [
    "# Crear la pipeline\n",
    "pipeline = Pipeline(steps = [\n",
    "    ('preprocessor', preprocessor)\n",
    "])"
   ]
  },
  {
   "cell_type": "code",
   "execution_count": 22,
   "metadata": {},
   "outputs": [],
   "source": [
    "# Aplicar el pipeline al DataFrame\n",
    "df2_transformed = pipeline.fit_transform(df2)"
   ]
  },
  {
   "cell_type": "code",
   "execution_count": 29,
   "metadata": {},
   "outputs": [
    {
     "name": "stdout",
     "output_type": "stream",
     "text": [
      "Forma del DataFrame transformado: (7904, 431)\n"
     ]
    }
   ],
   "source": [
    "print(\"Forma del DataFrame transformado:\", df2_transformed.shape)"
   ]
  },
  {
   "cell_type": "code",
   "execution_count": 37,
   "metadata": {},
   "outputs": [
    {
     "name": "stdout",
     "output_type": "stream",
     "text": [
      "Verificación final antes de crear el DataFrame:\n",
      "Forma del df2_transformed: (7904, 431)\n",
      "Dimensiones esperadas de new_columns: 431\n"
     ]
    }
   ],
   "source": [
    "print(\"Verificación final antes de crear el DataFrame:\")\n",
    "print(\"Forma del df2_transformed:\", df2_transformed.shape)\n",
    "print(\"Dimensiones esperadas de new_columns:\", len(new_columns))"
   ]
  },
  {
   "cell_type": "code",
   "execution_count": 38,
   "metadata": {},
   "outputs": [
    {
     "name": "stdout",
     "output_type": "stream",
     "text": [
      "Converting sparse matrix to dense matrix...\n",
      "DataFrame final creado con éxito:\n",
      "            Facturación  Facturación (media)  Importe Venta (media)  x0_KM0  \\\n",
      "Fecha                                                                         \n",
      "2024-01-18     0.380065             0.009954               0.008965     0.0   \n",
      "2023-03-21     0.378384             0.007269               0.006546     0.0   \n",
      "2023-06-29     0.386024             0.019470               0.018843     0.0   \n",
      "2024-03-18     0.409839             0.057503               0.051786     0.0   \n",
      "2023-01-16     0.424827             0.081440               0.073342     0.0   \n",
      "\n",
      "            x0_VN  x0_VO  x1_ABARTH  x1_ALFA  x1_APRILIA  x1_AUDI  ...  \\\n",
      "Fecha                                                              ...   \n",
      "2024-01-18    0.0    1.0        0.0      0.0         0.0      0.0  ...   \n",
      "2023-03-21    0.0    1.0        0.0      0.0         0.0      0.0  ...   \n",
      "2023-06-29    0.0    1.0        0.0      0.0         0.0      0.0  ...   \n",
      "2024-03-18    0.0    1.0        0.0      0.0         0.0      0.0  ...   \n",
      "2023-01-16    0.0    1.0        0.0      1.0         0.0      0.0  ...   \n",
      "\n",
      "            x2_ZONTES  x2_ZS  x3_1.0 Ecoboost 100cv  x3_DIESEL  x3_ELECTRICO  \\\n",
      "Fecha                                                                          \n",
      "2024-01-18        0.0    0.0                    0.0        0.0           0.0   \n",
      "2023-03-21        0.0    0.0                    0.0        0.0           0.0   \n",
      "2023-06-29        0.0    0.0                    0.0        0.0           0.0   \n",
      "2024-03-18        0.0    0.0                    0.0        1.0           0.0   \n",
      "2023-01-16        0.0    0.0                    0.0        1.0           0.0   \n",
      "\n",
      "            x3_GASOLINA  x3_HIBRIDO  x3_HIBRIDO ENCHUFABLE  x3_MICROHIBRIDO  \\\n",
      "Fecha                                                                         \n",
      "2024-01-18          1.0         0.0                    0.0              0.0   \n",
      "2023-03-21          1.0         0.0                    0.0              0.0   \n",
      "2023-06-29          1.0         0.0                    0.0              0.0   \n",
      "2024-03-18          0.0         0.0                    0.0              0.0   \n",
      "2023-01-16          0.0         0.0                    0.0              0.0   \n",
      "\n",
      "            x3_MICROHIBRIDO DIESEL  \n",
      "Fecha                               \n",
      "2024-01-18                     0.0  \n",
      "2023-03-21                     0.0  \n",
      "2023-06-29                     0.0  \n",
      "2024-03-18                     0.0  \n",
      "2023-01-16                     0.0  \n",
      "\n",
      "[5 rows x 431 columns]\n"
     ]
    }
   ],
   "source": [
    "# Convertir la matriz dispersa a una matriz densa si es necesario\n",
    "if sparse.issparse(df2_transformed):\n",
    "    print(\"Converting sparse matrix to dense matrix...\")\n",
    "    df2_transformed = df2_transformed.toarray()\n",
    "\n",
    "if df2_transformed.shape[1] == len(new_columns):\n",
    "    df2_final = pd.DataFrame(df2_transformed, index=df2.index, columns=new_columns)\n",
    "    print(\"DataFrame final creado con éxito:\")\n",
    "    print(df2_final.head())\n",
    "else:\n",
    "    print(\"Incongruencia en el número de columnas:\", df2_transformed.shape[1], \"esperado:\", len(new_columns))\n"
   ]
  },
  {
   "cell_type": "code",
   "execution_count": 39,
   "metadata": {},
   "outputs": [
    {
     "data": {
      "text/html": [
       "<div>\n",
       "<style scoped>\n",
       "    .dataframe tbody tr th:only-of-type {\n",
       "        vertical-align: middle;\n",
       "    }\n",
       "\n",
       "    .dataframe tbody tr th {\n",
       "        vertical-align: top;\n",
       "    }\n",
       "\n",
       "    .dataframe thead th {\n",
       "        text-align: right;\n",
       "    }\n",
       "</style>\n",
       "<table border=\"1\" class=\"dataframe\">\n",
       "  <thead>\n",
       "    <tr style=\"text-align: right;\">\n",
       "      <th></th>\n",
       "      <th>Facturación</th>\n",
       "      <th>Facturación (media)</th>\n",
       "      <th>Importe Venta (media)</th>\n",
       "      <th>x0_KM0</th>\n",
       "      <th>x0_VN</th>\n",
       "      <th>x0_VO</th>\n",
       "      <th>x1_ABARTH</th>\n",
       "      <th>x1_ALFA</th>\n",
       "      <th>x1_APRILIA</th>\n",
       "      <th>x1_AUDI</th>\n",
       "      <th>...</th>\n",
       "      <th>x2_ZONTES</th>\n",
       "      <th>x2_ZS</th>\n",
       "      <th>x3_1.0 Ecoboost 100cv</th>\n",
       "      <th>x3_DIESEL</th>\n",
       "      <th>x3_ELECTRICO</th>\n",
       "      <th>x3_GASOLINA</th>\n",
       "      <th>x3_HIBRIDO</th>\n",
       "      <th>x3_HIBRIDO ENCHUFABLE</th>\n",
       "      <th>x3_MICROHIBRIDO</th>\n",
       "      <th>x3_MICROHIBRIDO DIESEL</th>\n",
       "    </tr>\n",
       "    <tr>\n",
       "      <th>Fecha</th>\n",
       "      <th></th>\n",
       "      <th></th>\n",
       "      <th></th>\n",
       "      <th></th>\n",
       "      <th></th>\n",
       "      <th></th>\n",
       "      <th></th>\n",
       "      <th></th>\n",
       "      <th></th>\n",
       "      <th></th>\n",
       "      <th></th>\n",
       "      <th></th>\n",
       "      <th></th>\n",
       "      <th></th>\n",
       "      <th></th>\n",
       "      <th></th>\n",
       "      <th></th>\n",
       "      <th></th>\n",
       "      <th></th>\n",
       "      <th></th>\n",
       "      <th></th>\n",
       "    </tr>\n",
       "  </thead>\n",
       "  <tbody>\n",
       "    <tr>\n",
       "      <th>2024-01-18</th>\n",
       "      <td>0.380065</td>\n",
       "      <td>0.009954</td>\n",
       "      <td>0.008965</td>\n",
       "      <td>0.0</td>\n",
       "      <td>0.0</td>\n",
       "      <td>1.0</td>\n",
       "      <td>0.0</td>\n",
       "      <td>0.0</td>\n",
       "      <td>0.0</td>\n",
       "      <td>0.0</td>\n",
       "      <td>...</td>\n",
       "      <td>0.0</td>\n",
       "      <td>0.0</td>\n",
       "      <td>0.0</td>\n",
       "      <td>0.0</td>\n",
       "      <td>0.0</td>\n",
       "      <td>1.0</td>\n",
       "      <td>0.0</td>\n",
       "      <td>0.0</td>\n",
       "      <td>0.0</td>\n",
       "      <td>0.0</td>\n",
       "    </tr>\n",
       "    <tr>\n",
       "      <th>2023-03-21</th>\n",
       "      <td>0.378384</td>\n",
       "      <td>0.007269</td>\n",
       "      <td>0.006546</td>\n",
       "      <td>0.0</td>\n",
       "      <td>0.0</td>\n",
       "      <td>1.0</td>\n",
       "      <td>0.0</td>\n",
       "      <td>0.0</td>\n",
       "      <td>0.0</td>\n",
       "      <td>0.0</td>\n",
       "      <td>...</td>\n",
       "      <td>0.0</td>\n",
       "      <td>0.0</td>\n",
       "      <td>0.0</td>\n",
       "      <td>0.0</td>\n",
       "      <td>0.0</td>\n",
       "      <td>1.0</td>\n",
       "      <td>0.0</td>\n",
       "      <td>0.0</td>\n",
       "      <td>0.0</td>\n",
       "      <td>0.0</td>\n",
       "    </tr>\n",
       "    <tr>\n",
       "      <th>2023-06-29</th>\n",
       "      <td>0.386024</td>\n",
       "      <td>0.019470</td>\n",
       "      <td>0.018843</td>\n",
       "      <td>0.0</td>\n",
       "      <td>0.0</td>\n",
       "      <td>1.0</td>\n",
       "      <td>0.0</td>\n",
       "      <td>0.0</td>\n",
       "      <td>0.0</td>\n",
       "      <td>0.0</td>\n",
       "      <td>...</td>\n",
       "      <td>0.0</td>\n",
       "      <td>0.0</td>\n",
       "      <td>0.0</td>\n",
       "      <td>0.0</td>\n",
       "      <td>0.0</td>\n",
       "      <td>1.0</td>\n",
       "      <td>0.0</td>\n",
       "      <td>0.0</td>\n",
       "      <td>0.0</td>\n",
       "      <td>0.0</td>\n",
       "    </tr>\n",
       "    <tr>\n",
       "      <th>2024-03-18</th>\n",
       "      <td>0.409839</td>\n",
       "      <td>0.057503</td>\n",
       "      <td>0.051786</td>\n",
       "      <td>0.0</td>\n",
       "      <td>0.0</td>\n",
       "      <td>1.0</td>\n",
       "      <td>0.0</td>\n",
       "      <td>0.0</td>\n",
       "      <td>0.0</td>\n",
       "      <td>0.0</td>\n",
       "      <td>...</td>\n",
       "      <td>0.0</td>\n",
       "      <td>0.0</td>\n",
       "      <td>0.0</td>\n",
       "      <td>1.0</td>\n",
       "      <td>0.0</td>\n",
       "      <td>0.0</td>\n",
       "      <td>0.0</td>\n",
       "      <td>0.0</td>\n",
       "      <td>0.0</td>\n",
       "      <td>0.0</td>\n",
       "    </tr>\n",
       "    <tr>\n",
       "      <th>2023-01-16</th>\n",
       "      <td>0.424827</td>\n",
       "      <td>0.081440</td>\n",
       "      <td>0.073342</td>\n",
       "      <td>0.0</td>\n",
       "      <td>0.0</td>\n",
       "      <td>1.0</td>\n",
       "      <td>0.0</td>\n",
       "      <td>1.0</td>\n",
       "      <td>0.0</td>\n",
       "      <td>0.0</td>\n",
       "      <td>...</td>\n",
       "      <td>0.0</td>\n",
       "      <td>0.0</td>\n",
       "      <td>0.0</td>\n",
       "      <td>1.0</td>\n",
       "      <td>0.0</td>\n",
       "      <td>0.0</td>\n",
       "      <td>0.0</td>\n",
       "      <td>0.0</td>\n",
       "      <td>0.0</td>\n",
       "      <td>0.0</td>\n",
       "    </tr>\n",
       "  </tbody>\n",
       "</table>\n",
       "<p>5 rows × 431 columns</p>\n",
       "</div>"
      ],
      "text/plain": [
       "            Facturación  Facturación (media)  Importe Venta (media)  x0_KM0  \\\n",
       "Fecha                                                                         \n",
       "2024-01-18     0.380065             0.009954               0.008965     0.0   \n",
       "2023-03-21     0.378384             0.007269               0.006546     0.0   \n",
       "2023-06-29     0.386024             0.019470               0.018843     0.0   \n",
       "2024-03-18     0.409839             0.057503               0.051786     0.0   \n",
       "2023-01-16     0.424827             0.081440               0.073342     0.0   \n",
       "\n",
       "            x0_VN  x0_VO  x1_ABARTH  x1_ALFA  x1_APRILIA  x1_AUDI  ...  \\\n",
       "Fecha                                                              ...   \n",
       "2024-01-18    0.0    1.0        0.0      0.0         0.0      0.0  ...   \n",
       "2023-03-21    0.0    1.0        0.0      0.0         0.0      0.0  ...   \n",
       "2023-06-29    0.0    1.0        0.0      0.0         0.0      0.0  ...   \n",
       "2024-03-18    0.0    1.0        0.0      0.0         0.0      0.0  ...   \n",
       "2023-01-16    0.0    1.0        0.0      1.0         0.0      0.0  ...   \n",
       "\n",
       "            x2_ZONTES  x2_ZS  x3_1.0 Ecoboost 100cv  x3_DIESEL  x3_ELECTRICO  \\\n",
       "Fecha                                                                          \n",
       "2024-01-18        0.0    0.0                    0.0        0.0           0.0   \n",
       "2023-03-21        0.0    0.0                    0.0        0.0           0.0   \n",
       "2023-06-29        0.0    0.0                    0.0        0.0           0.0   \n",
       "2024-03-18        0.0    0.0                    0.0        1.0           0.0   \n",
       "2023-01-16        0.0    0.0                    0.0        1.0           0.0   \n",
       "\n",
       "            x3_GASOLINA  x3_HIBRIDO  x3_HIBRIDO ENCHUFABLE  x3_MICROHIBRIDO  \\\n",
       "Fecha                                                                         \n",
       "2024-01-18          1.0         0.0                    0.0              0.0   \n",
       "2023-03-21          1.0         0.0                    0.0              0.0   \n",
       "2023-06-29          1.0         0.0                    0.0              0.0   \n",
       "2024-03-18          0.0         0.0                    0.0              0.0   \n",
       "2023-01-16          0.0         0.0                    0.0              0.0   \n",
       "\n",
       "            x3_MICROHIBRIDO DIESEL  \n",
       "Fecha                               \n",
       "2024-01-18                     0.0  \n",
       "2023-03-21                     0.0  \n",
       "2023-06-29                     0.0  \n",
       "2024-03-18                     0.0  \n",
       "2023-01-16                     0.0  \n",
       "\n",
       "[5 rows x 431 columns]"
      ]
     },
     "execution_count": 39,
     "metadata": {},
     "output_type": "execute_result"
    }
   ],
   "source": [
    "df2_final.head()"
   ]
  }
 ],
 "metadata": {
  "kernelspec": {
   "display_name": "Python 3",
   "language": "python",
   "name": "python3"
  },
  "language_info": {
   "codemirror_mode": {
    "name": "ipython",
    "version": 3
   },
   "file_extension": ".py",
   "mimetype": "text/x-python",
   "name": "python",
   "nbconvert_exporter": "python",
   "pygments_lexer": "ipython3",
   "version": "3.12.2"
  }
 },
 "nbformat": 4,
 "nbformat_minor": 2
}
